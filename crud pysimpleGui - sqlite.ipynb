{
 "cells": [
  {
   "cell_type": "code",
   "execution_count": 1,
   "metadata": {},
   "outputs": [
    {
     "ename": "KeyboardInterrupt",
     "evalue": "",
     "output_type": "error",
     "traceback": [
      "\u001b[1;31m---------------------------------------------------------------------------\u001b[0m",
      "\u001b[1;31mKeyboardInterrupt\u001b[0m                         Traceback (most recent call last)",
      "\u001b[1;32mc:\\Users\\eduar\\OneDrive - blueshift.com.br\\Python\\Copilot\\CRUD\\CRUD EXECUTAVEL\\CRUD EXECUTAVEL\\crud pysimpleGui - sqlite.ipynb Cell 1'\u001b[0m in \u001b[0;36m<cell line: 68>\u001b[1;34m()\u001b[0m\n\u001b[0;32m     <a href='vscode-notebook-cell:/c%3A/Users/eduar/OneDrive%20-%20blueshift.com.br/Python/Copilot/CRUD/CRUD%20EXECUTAVEL/CRUD%20EXECUTAVEL/crud%20pysimpleGui%20-%20sqlite.ipynb#ch0000000?line=64'>65</a>\u001b[0m     window\u001b[39m.\u001b[39mclose()\n\u001b[0;32m     <a href='vscode-notebook-cell:/c%3A/Users/eduar/OneDrive%20-%20blueshift.com.br/Python/Copilot/CRUD/CRUD%20EXECUTAVEL/CRUD%20EXECUTAVEL/crud%20pysimpleGui%20-%20sqlite.ipynb#ch0000000?line=67'>68</a>\u001b[0m \u001b[39mif\u001b[39;00m \u001b[39m__name__\u001b[39m \u001b[39m==\u001b[39m \u001b[39m'\u001b[39m\u001b[39m__main__\u001b[39m\u001b[39m'\u001b[39m:\n\u001b[1;32m---> <a href='vscode-notebook-cell:/c%3A/Users/eduar/OneDrive%20-%20blueshift.com.br/Python/Copilot/CRUD/CRUD%20EXECUTAVEL/CRUD%20EXECUTAVEL/crud%20pysimpleGui%20-%20sqlite.ipynb#ch0000000?line=68'>69</a>\u001b[0m     main()\n",
      "\u001b[1;32mc:\\Users\\eduar\\OneDrive - blueshift.com.br\\Python\\Copilot\\CRUD\\CRUD EXECUTAVEL\\CRUD EXECUTAVEL\\crud pysimpleGui - sqlite.ipynb Cell 1'\u001b[0m in \u001b[0;36mmain\u001b[1;34m()\u001b[0m\n\u001b[0;32m     <a href='vscode-notebook-cell:/c%3A/Users/eduar/OneDrive%20-%20blueshift.com.br/Python/Copilot/CRUD/CRUD%20EXECUTAVEL/CRUD%20EXECUTAVEL/crud%20pysimpleGui%20-%20sqlite.ipynb#ch0000000?line=51'>52</a>\u001b[0m window \u001b[39m=\u001b[39m sg\u001b[39m.\u001b[39mWindow(\u001b[39m'\u001b[39m\u001b[39mCRUD Cliente\u001b[39m\u001b[39m'\u001b[39m, layout)\n\u001b[0;32m     <a href='vscode-notebook-cell:/c%3A/Users/eduar/OneDrive%20-%20blueshift.com.br/Python/Copilot/CRUD/CRUD%20EXECUTAVEL/CRUD%20EXECUTAVEL/crud%20pysimpleGui%20-%20sqlite.ipynb#ch0000000?line=52'>53</a>\u001b[0m \u001b[39mwhile\u001b[39;00m \u001b[39mTrue\u001b[39;00m:\n\u001b[1;32m---> <a href='vscode-notebook-cell:/c%3A/Users/eduar/OneDrive%20-%20blueshift.com.br/Python/Copilot/CRUD/CRUD%20EXECUTAVEL/CRUD%20EXECUTAVEL/crud%20pysimpleGui%20-%20sqlite.ipynb#ch0000000?line=53'>54</a>\u001b[0m     event, values \u001b[39m=\u001b[39m window\u001b[39m.\u001b[39;49mread()\n\u001b[0;32m     <a href='vscode-notebook-cell:/c%3A/Users/eduar/OneDrive%20-%20blueshift.com.br/Python/Copilot/CRUD/CRUD%20EXECUTAVEL/CRUD%20EXECUTAVEL/crud%20pysimpleGui%20-%20sqlite.ipynb#ch0000000?line=54'>55</a>\u001b[0m     \u001b[39mif\u001b[39;00m event \u001b[39min\u001b[39;00m (\u001b[39mNone\u001b[39;00m, \u001b[39m'\u001b[39m\u001b[39mExit\u001b[39m\u001b[39m'\u001b[39m):\n\u001b[0;32m     <a href='vscode-notebook-cell:/c%3A/Users/eduar/OneDrive%20-%20blueshift.com.br/Python/Copilot/CRUD/CRUD%20EXECUTAVEL/CRUD%20EXECUTAVEL/crud%20pysimpleGui%20-%20sqlite.ipynb#ch0000000?line=55'>56</a>\u001b[0m         \u001b[39mbreak\u001b[39;00m\n",
      "File \u001b[1;32mc:\\Users\\eduar\\AppData\\Local\\Programs\\Python\\Python39\\lib\\site-packages\\PySimpleGUI\\PySimpleGUI.py:10067\u001b[0m, in \u001b[0;36mWindow.read\u001b[1;34m(self, timeout, timeout_key, close)\u001b[0m\n\u001b[0;32m  <a href='file:///c%3A/Users/eduar/AppData/Local/Programs/Python/Python39/lib/site-packages/PySimpleGUI/PySimpleGUI.py?line=10064'>10065</a>\u001b[0m \u001b[39mwhile\u001b[39;00m \u001b[39mTrue\u001b[39;00m:\n\u001b[0;32m  <a href='file:///c%3A/Users/eduar/AppData/Local/Programs/Python/Python39/lib/site-packages/PySimpleGUI/PySimpleGUI.py?line=10065'>10066</a>\u001b[0m     Window\u001b[39m.\u001b[39m_root_running_mainloop \u001b[39m=\u001b[39m \u001b[39mself\u001b[39m\u001b[39m.\u001b[39mTKroot\n\u001b[1;32m> <a href='file:///c%3A/Users/eduar/AppData/Local/Programs/Python/Python39/lib/site-packages/PySimpleGUI/PySimpleGUI.py?line=10066'>10067</a>\u001b[0m     results \u001b[39m=\u001b[39m \u001b[39mself\u001b[39;49m\u001b[39m.\u001b[39;49m_read(timeout\u001b[39m=\u001b[39;49mtimeout, timeout_key\u001b[39m=\u001b[39;49mtimeout_key)\n\u001b[0;32m  <a href='file:///c%3A/Users/eduar/AppData/Local/Programs/Python/Python39/lib/site-packages/PySimpleGUI/PySimpleGUI.py?line=10067'>10068</a>\u001b[0m     \u001b[39mif\u001b[39;00m results \u001b[39mis\u001b[39;00m \u001b[39mnot\u001b[39;00m \u001b[39mNone\u001b[39;00m:\n\u001b[0;32m  <a href='file:///c%3A/Users/eduar/AppData/Local/Programs/Python/Python39/lib/site-packages/PySimpleGUI/PySimpleGUI.py?line=10068'>10069</a>\u001b[0m         \u001b[39mif\u001b[39;00m results[\u001b[39m0\u001b[39m] \u001b[39m==\u001b[39m DEFAULT_WINDOW_SNAPSHOT_KEY:\n",
      "File \u001b[1;32mc:\\Users\\eduar\\AppData\\Local\\Programs\\Python\\Python39\\lib\\site-packages\\PySimpleGUI\\PySimpleGUI.py:10195\u001b[0m, in \u001b[0;36mWindow._read\u001b[1;34m(self, timeout, timeout_key)\u001b[0m\n\u001b[0;32m  <a href='file:///c%3A/Users/eduar/AppData/Local/Programs/Python/Python39/lib/site-packages/PySimpleGUI/PySimpleGUI.py?line=10191'>10192</a>\u001b[0m \u001b[39m# self.TKroot.protocol(\"WM_DESTROY_WINDOW\", self._OnClosingCallback)\u001b[39;00m\n\u001b[0;32m  <a href='file:///c%3A/Users/eduar/AppData/Local/Programs/Python/Python39/lib/site-packages/PySimpleGUI/PySimpleGUI.py?line=10192'>10193</a>\u001b[0m \u001b[39m# self.TKroot.protocol(\"WM_DELETE_WINDOW\", self._OnClosingCallback)\u001b[39;00m\n\u001b[0;32m  <a href='file:///c%3A/Users/eduar/AppData/Local/Programs/Python/Python39/lib/site-packages/PySimpleGUI/PySimpleGUI.py?line=10193'>10194</a>\u001b[0m Window\u001b[39m.\u001b[39m_window_running_mainloop \u001b[39m=\u001b[39m \u001b[39mself\u001b[39m\n\u001b[1;32m> <a href='file:///c%3A/Users/eduar/AppData/Local/Programs/Python/Python39/lib/site-packages/PySimpleGUI/PySimpleGUI.py?line=10194'>10195</a>\u001b[0m Window\u001b[39m.\u001b[39;49m_root_running_mainloop\u001b[39m.\u001b[39;49mmainloop()\n\u001b[0;32m  <a href='file:///c%3A/Users/eduar/AppData/Local/Programs/Python/Python39/lib/site-packages/PySimpleGUI/PySimpleGUI.py?line=10196'>10197</a>\u001b[0m \u001b[39m# print('Out main')\u001b[39;00m\n\u001b[0;32m  <a href='file:///c%3A/Users/eduar/AppData/Local/Programs/Python/Python39/lib/site-packages/PySimpleGUI/PySimpleGUI.py?line=10197'>10198</a>\u001b[0m \u001b[39mself\u001b[39m\u001b[39m.\u001b[39mCurrentlyRunningMainloop \u001b[39m=\u001b[39m \u001b[39mFalse\u001b[39;00m\n",
      "File \u001b[1;32mc:\\Users\\eduar\\AppData\\Local\\Programs\\Python\\Python39\\lib\\tkinter\\__init__.py:1429\u001b[0m, in \u001b[0;36mMisc.mainloop\u001b[1;34m(self, n)\u001b[0m\n\u001b[0;32m   <a href='file:///c%3A/Users/eduar/AppData/Local/Programs/Python/Python39/lib/tkinter/__init__.py?line=1426'>1427</a>\u001b[0m \u001b[39mdef\u001b[39;00m \u001b[39mmainloop\u001b[39m(\u001b[39mself\u001b[39m, n\u001b[39m=\u001b[39m\u001b[39m0\u001b[39m):\n\u001b[0;32m   <a href='file:///c%3A/Users/eduar/AppData/Local/Programs/Python/Python39/lib/tkinter/__init__.py?line=1427'>1428</a>\u001b[0m     \u001b[39m\"\"\"Call the mainloop of Tk.\"\"\"\u001b[39;00m\n\u001b[1;32m-> <a href='file:///c%3A/Users/eduar/AppData/Local/Programs/Python/Python39/lib/tkinter/__init__.py?line=1428'>1429</a>\u001b[0m     \u001b[39mself\u001b[39;49m\u001b[39m.\u001b[39;49mtk\u001b[39m.\u001b[39;49mmainloop(n)\n",
      "\u001b[1;31mKeyboardInterrupt\u001b[0m: "
     ]
    }
   ],
   "source": [
    "#//Crie uma interface para registro de clientes utilizando a biblioteca PySimpleGUI para registrar em um banco de dados sqlite.\n",
    "\n",
    "\n",
    "import sqlite3\n",
    "import PySimpleGUI as sg\n",
    "\n",
    "\n",
    "\n",
    "cnxn = sqlite3.connect('cliente.db')\n",
    "cursor = cnxn.cursor()\n",
    "cursor = cnxn.execute(\"CREATE TABLE IF NOT EXISTS cliente (nome VARCHAR(50), cpf VARCHAR(11), email VARCHAR(50), telefone VARCHAR(11))\")\n",
    "cnxn.commit()\n",
    "\n",
    "\n",
    "\n",
    "\n",
    "def inserir(nome, cpf, email, telefone):\n",
    "    cursor = cnxn.execute(\"INSERT INTO cliente (nome, cpf, email, telefone) VALUES (?, ?, ?, ?)\", (nome, cpf, email, telefone))\n",
    "    cnxn.commit()\n",
    "    \n",
    "\n",
    "\n",
    "def consultar():\n",
    "    \n",
    "    cursor = cnxn.execute(\"SELECT * FROM cliente\")\n",
    "    for row in cursor:\n",
    "        print(row)\n",
    "\n",
    "\n",
    "def excluir(cpf):\n",
    "    cursor = cnxn.execute(\"DELETE FROM cliente WHERE cpf ={0}\".format(cpf))\n",
    "    cnxn.commit()\n",
    "    \n",
    "\n",
    "\n",
    "def alterar(nome, cpf, email, telefone):\n",
    "    \n",
    "    cursor = cnxn.execute(\"UPDATE cliente SET nome = ?, cpf = ?, email = ? WHERE telefone = ?\", (nome, cpf, email, telefone))\n",
    "    cnxn.commit()\n",
    "\n",
    "   \n",
    "\n",
    "def main():\n",
    "    layout = [\n",
    "        [sg.Text('Nome'), sg.InputText(key='nome')],\n",
    "        [sg.Text('CPF'), sg.InputText(key='cpf')],\n",
    "        [sg.Text('Email'), sg.InputText(key='email')],\n",
    "        [sg.Text('Telefone'), sg.InputText(key='telefone')],\n",
    "        [sg.Button('Inserir'), sg.Button('Consultar'), sg.Button('Excluir pelo CPF'), sg.Button('Alterar')],\n",
    "        [sg.Output(size=(80, 20))]\n",
    "    ]\n",
    "    window = sg.Window('CRUD Cliente', layout)\n",
    "    while True:\n",
    "        event, values = window.read()\n",
    "        if event in (None, 'Exit'):\n",
    "            break\n",
    "        if event == 'Inserir':\n",
    "            inserir(values['nome'], values['cpf'], values['email'], values['telefone'])\n",
    "        if event == 'Consultar':\n",
    "            consultar()\n",
    "        if event == 'Excluir pelo CPF':\n",
    "            excluir(values['cpf'])\n",
    "        if event == 'Alterar':\n",
    "            alterar(values['nome'], values['cpf'], values['email'], values['telefone'])\n",
    "    window.close()\n",
    "\n",
    "\n",
    "if __name__ == '__main__':\n",
    "    main()\n",
    "\n"
   ]
  },
  {
   "cell_type": "code",
   "execution_count": null,
   "metadata": {},
   "outputs": [],
   "source": []
  }
 ],
 "metadata": {
  "interpreter": {
   "hash": "21a407025843636f3b028dfaad46d04f666c39c3a1b6ea6cad8fbbfbaa2acc05"
  },
  "kernelspec": {
   "display_name": "Python 3.9.11 64-bit",
   "language": "python",
   "name": "python3"
  },
  "language_info": {
   "codemirror_mode": {
    "name": "ipython",
    "version": 3
   },
   "file_extension": ".py",
   "mimetype": "text/x-python",
   "name": "python",
   "nbconvert_exporter": "python",
   "pygments_lexer": "ipython3",
   "version": "3.9.11"
  },
  "orig_nbformat": 4
 },
 "nbformat": 4,
 "nbformat_minor": 2
}
